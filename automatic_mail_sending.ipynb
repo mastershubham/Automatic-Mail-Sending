import pandas as pd
import smtplib
from email.mime.text import MIMEText
from email.mime.multipart import MIMEMultipart
import pandas as pd
from email.mime.base import MIMEBase
from email import encoders
import os


your_email = "email_here"
your_password = "password"

# Read the Excel file
email_list = pd.read_excel('test.xlsx')

names = email_list['Name']
emails = email_list['Email']

attachments = ["call_for_proposal.pdf", "health_nexus_accelerator.jpeg"]

# Setup the SMTP server
server = smtplib.SMTP_SSL('smtp.gmail.com', 465)
server.ehlo()
server.login(your_email, your_password)

# Loop over each name and email, creating a personalized message
for i in range(len(emails)):
    name = names[i]
    email = emails[i]

    # Create the email content
    subject = "Extended Deadline: Invitation for Proposals – Call for Startups in Healthcare Innovation"
    body = f"""<p>Dear Sir,</p>


<p>Greetings from Medical Cobotics Centre!</p>


<p>We are pleased to inform you that the deadline for submitting proposals for the Joint Call for Startups in Healthcare Innovation, organized by I-Hub Foundation for Cobotics (IHFC) and NATHEALTH, has been extended. The new submission deadline is now <b>22nd October 2024</b>.</p>

<p>As a reminder, this is a unique opportunity for startups working in healthcare technology to gain access to mentorship, ecosystem support, and funding opportunities. Selected startups may receive funding up to INR 25 lacs from IHFC.</p>

<p><b>How to Apply</b>: Please submit your proposal by <b>22nd October 2024</b> at the following link: <a href='https://tinyurl.com/3ywunftn'> https://tinyurl.com/3ywunftn </a>.</p>

<p>For any additional queries, feel free to reach out to us at <a href='mailto:secretariat@nathealth.co.in'>secretariat@nathealth.co.in</a>. We look forward to reviewing your innovative ideas and working together to advance healthcare in India!</p>


<p>Warm Regards,</p>

<p>Prabhat Ranjan</p>
<p>Centre Incharge, Medical Cobotics Centre</p>
<p>I-Hub Foundation for Cobotics (IHFC), IIT Delhi</p>
"""

    msg = MIMEMultipart()
    msg['From'] = your_email
    msg['To'] = email
    msg['Subject'] = subject

    # Attach the message body
    msg.attach(MIMEText(body, 'html'))

    for attachment_path in attachments:
      attachment = MIMEBase('application', 'octet-stream')
      with open(attachment_path, 'rb') as attachment_file:
        attachment.set_payload(attachment_file.read())

      encoders.encode_base64(attachment)  # Encode the attachment in base64
      attachment.add_header('Content-Disposition', f'attachment; filename={os.path.basename(attachment_path)}')

      # Attach the file to the email
      msg.attach(attachment)


    # Send the email
    server.sendmail(your_email, email, msg.as_string())

# Close the server connection
server.close()
